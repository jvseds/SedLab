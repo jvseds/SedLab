{
 "cells": [
  {
   "cell_type": "markdown",
   "id": "9d686226",
   "metadata": {},
   "source": [
    "### Grain Size Heatmap"
   ]
  },
  {
   "cell_type": "code",
   "execution_count": null,
   "id": "3bae8319",
   "metadata": {},
   "outputs": [],
   "source": [
    "import numpy as np\n",
    "import pandas as pd\n",
    "import matplotlib.pyplot as plt\n",
    "from grainsize import GrainSize"
   ]
  },
  {
   "cell_type": "markdown",
   "id": "bebfac14",
   "metadata": {},
   "source": [
    "First, we'll define the matrix of grain size fractions based on the grain size data frame."
   ]
  },
  {
   "cell_type": "code",
   "execution_count": null,
   "id": "7b3f74c7",
   "metadata": {},
   "outputs": [],
   "source": [
    "sr19 = GrainSize(dataframe=pd.read_csv(\"../data-files/gs-files/sr19-gs-complete.csv\", index_col=0))\n",
    "sr19.dataframe = sr19.dataframe[sr19.dataframe.index <= 263]"
   ]
  },
  {
   "cell_type": "code",
   "execution_count": null,
   "id": "956300ee",
   "metadata": {},
   "outputs": [],
   "source": [
    "# build matrix\n",
    "z = sr19.dataframe.values.astype(float)\n",
    "gs_bins = sr19.dataframe.columns.values.astype(float)\n",
    "depth_bins = sr19.dataframe.index.values.astype(float)"
   ]
  },
  {
   "cell_type": "code",
   "execution_count": null,
   "id": "40bf93e8",
   "metadata": {},
   "outputs": [],
   "source": [
    "# plotting the heatmap\n",
    "fig, ax = plt.subplots(figsize=(5, 8))\n",
    "mesh = ax.pcolormesh(\n",
    "    gs_bins,\n",
    "    depth_bins,\n",
    "    z,\n",
    "    shading=\"gouraud\",\n",
    "    cmap=\"rainbow\")\n",
    "fig.colorbar(mesh, ax=ax, label=\"Volumetric fraction (%)\")\n",
    "\n",
    "ax.set_xlabel(\"Grain size (um)\")\n",
    "ax.set_ylabel(\"Depth (cm)\")\n",
    "ax.set_title(\"Grain size distribution at SR19\")\n",
    "ax.yaxis.set_inverted(True)"
   ]
  },
  {
   "cell_type": "code",
   "execution_count": null,
   "id": "908ef5c2",
   "metadata": {},
   "outputs": [],
   "source": [
    "from scipy.interpolate import RegularGridInterpolator"
   ]
  },
  {
   "cell_type": "code",
   "execution_count": null,
   "id": "6736b39a",
   "metadata": {},
   "outputs": [],
   "source": [
    "# creating the midpoints for the bins\n",
    "gs_mid = (gs_bins[:-1] + gs_bins[1:]) / 2\n",
    "depth_mid = (depth_bins[:-1] + depth_bins[1:]) / 2\n",
    "\n",
    "interp = RegularGridInterpolator((depth_mid, gs_mid), z)\n",
    "\n",
    "interpolated_depth = np.arange(0, depth_mid.max(), step=1)\n",
    "interpolated_gs = np.arange(0, gs_mid.max(), step=1)\n",
    "new_depth, new_gs = np.meshgrid(\n",
    "    interpolated_gs, interpolated_depth, indexing=\"ij\"\n",
    ")\n",
    "interpolated_z = interp((new_depth, new_gs))"
   ]
  },
  {
   "cell_type": "code",
   "execution_count": null,
   "id": "04532fee",
   "metadata": {},
   "outputs": [],
   "source": []
  }
 ],
 "metadata": {
  "kernelspec": {
   "display_name": "Python 3",
   "language": "python",
   "name": "python3"
  },
  "language_info": {
   "codemirror_mode": {
    "name": "ipython",
    "version": 3
   },
   "file_extension": ".py",
   "mimetype": "text/x-python",
   "name": "python",
   "nbconvert_exporter": "python",
   "pygments_lexer": "ipython3",
   "version": "3.13.1"
  }
 },
 "nbformat": 4,
 "nbformat_minor": 5
}
